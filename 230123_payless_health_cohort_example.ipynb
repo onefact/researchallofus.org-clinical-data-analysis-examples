{
  "nbformat": 4,
  "nbformat_minor": 0,
  "metadata": {
    "colab": {
      "provenance": []
    },
    "kernelspec": {
      "name": "python3",
      "display_name": "Python 3"
    },
    "language_info": {
      "name": "python"
    }
  },
  "cells": [
    {
      "cell_type": "code",
      "execution_count": null,
      "metadata": {
        "id": "F3UJnR9cEKxB",
        "outputId": "501d6964-e055-45a4-83a7-50614a8fbc1e",
        "colab": {
          "base_uri": "https://localhost:8080/",
          "height": 365
        }
      },
      "outputs": [
        {
          "output_type": "error",
          "ename": "KeyError",
          "evalue": "ignored",
          "traceback": [
            "\u001b[0;31m---------------------------------------------------------------------------\u001b[0m",
            "\u001b[0;31mKeyError\u001b[0m                                  Traceback (most recent call last)",
            "\u001b[0;32m<ipython-input-1-b069172a061c>\u001b[0m in \u001b[0;36m<module>\u001b[0;34m\u001b[0m\n\u001b[1;32m      2\u001b[0m \u001b[0;32mimport\u001b[0m \u001b[0mos\u001b[0m\u001b[0;34m\u001b[0m\u001b[0;34m\u001b[0m\u001b[0m\n\u001b[1;32m      3\u001b[0m \u001b[0;34m\u001b[0m\u001b[0m\n\u001b[0;32m----> 4\u001b[0;31m \u001b[0mDATASET\u001b[0m \u001b[0;34m=\u001b[0m \u001b[0mos\u001b[0m\u001b[0;34m.\u001b[0m\u001b[0menviron\u001b[0m\u001b[0;34m[\u001b[0m\u001b[0;34m\"WORKSPACE_CDR\"\u001b[0m\u001b[0;34m]\u001b[0m\u001b[0;34m\u001b[0m\u001b[0;34m\u001b[0m\u001b[0m\n\u001b[0m\u001b[1;32m      5\u001b[0m sql_query = f\"\"\"\n\u001b[1;32m      6\u001b[0m \u001b[0mSELECT\u001b[0m \u001b[0;34m*\u001b[0m\u001b[0;34m\u001b[0m\u001b[0;34m\u001b[0m\u001b[0m\n",
            "\u001b[0;32m/usr/lib/python3.8/os.py\u001b[0m in \u001b[0;36m__getitem__\u001b[0;34m(self, key)\u001b[0m\n\u001b[1;32m    673\u001b[0m         \u001b[0;32mexcept\u001b[0m \u001b[0mKeyError\u001b[0m\u001b[0;34m:\u001b[0m\u001b[0;34m\u001b[0m\u001b[0;34m\u001b[0m\u001b[0m\n\u001b[1;32m    674\u001b[0m             \u001b[0;31m# raise KeyError with the original key value\u001b[0m\u001b[0;34m\u001b[0m\u001b[0;34m\u001b[0m\u001b[0;34m\u001b[0m\u001b[0m\n\u001b[0;32m--> 675\u001b[0;31m             \u001b[0;32mraise\u001b[0m \u001b[0mKeyError\u001b[0m\u001b[0;34m(\u001b[0m\u001b[0mkey\u001b[0m\u001b[0;34m)\u001b[0m \u001b[0;32mfrom\u001b[0m \u001b[0;32mNone\u001b[0m\u001b[0;34m\u001b[0m\u001b[0;34m\u001b[0m\u001b[0m\n\u001b[0m\u001b[1;32m    676\u001b[0m         \u001b[0;32mreturn\u001b[0m \u001b[0mself\u001b[0m\u001b[0;34m.\u001b[0m\u001b[0mdecodevalue\u001b[0m\u001b[0;34m(\u001b[0m\u001b[0mvalue\u001b[0m\u001b[0;34m)\u001b[0m\u001b[0;34m\u001b[0m\u001b[0;34m\u001b[0m\u001b[0m\n\u001b[1;32m    677\u001b[0m \u001b[0;34m\u001b[0m\u001b[0m\n",
            "\u001b[0;31mKeyError\u001b[0m: 'WORKSPACE_CDR'"
          ]
        }
      ],
      "source": [
        "import pandas as pd\n",
        "import os\n",
        "\n",
        "DATASET = os.environ[\"WORKSPACE_CDR\"]\n",
        "sql_query = f\"\"\"\n",
        "SELECT *\n",
        "FROM {DATASET}.INFORMATION_SCHEMA.TABLES;\n",
        "\"\"\"\n",
        "df = pd.read_gbq(sql_query, dialect=\"standard\")"
      ]
    },
    {
      "cell_type": "code",
      "source": [
        "df"
      ],
      "metadata": {
        "id": "OnyisUZfFHV-"
      },
      "execution_count": null,
      "outputs": []
    },
    {
      "cell_type": "code",
      "source": [
        "df.table_name.values"
      ],
      "metadata": {
        "id": "4to8VPiVFIXC"
      },
      "execution_count": null,
      "outputs": []
    },
    {
      "cell_type": "code",
      "source": [
        "for table_name in df.table_name.values:\n",
        "    print(f\"* {table_name}\")"
      ],
      "metadata": {
        "id": "-igz5aFEFMLA"
      },
      "execution_count": null,
      "outputs": []
    },
    {
      "cell_type": "markdown",
      "source": [
        "* observation\n",
        "* drug_era\n",
        "* ds_heart_rate_summary\n",
        "* fact_relationship\n",
        "* cb_survey_attribute\n",
        "* observation_period\n",
        "* cohort_definition_ext\n",
        "* ds_sleep_level\n",
        "* procedure_cost\n",
        "* cohort\n",
        "* zip3_ses_map\n",
        "* visit_occurrence\n",
        "* steps_intraday\n",
        "* person_ext\n",
        "* heart_rate_summary\n",
        "* care_site_ext\n",
        "* visit_occurrence_ext\n",
        "* cb_search_person\n",
        "* drug_strength\n",
        "* condition_era\n",
        "* cdm_source\n",
        "* ds_activity_summary\n",
        "* cb_criteria_attribute\n",
        "* _cdr_metadata\n",
        "* ds_observation\n",
        "* measurement\n",
        "* device_cost_ext\n",
        "* visit_detail_ext\n",
        "* visit_cost_ext\n",
        "* cost_ext\n",
        "* visit_cost\n",
        "* drug_cost_ext\n",
        "* cb_review_all_events\n",
        "* ds_measurement\n",
        "* activity_summary\n",
        "* domain\n",
        "* procedure_occurrence_ext\n",
        "* observation_period_ext\n",
        "* procedure_cost_ext\n",
        "* note_nlp\n",
        "* ds_heart_rate_minute_level\n",
        "* ds_data_dictionary\n",
        "* cb_review_survey\n",
        "* drug_era_ext\n",
        "* metadata\n",
        "* ds_procedure_occurrence\n",
        "* provider\n",
        "* person\n",
        "* cb_criteria\n",
        "* ds_survey\n",
        "* attribute_definition_ext\n",
        "* ds_drug_exposure\n",
        "* concept_relationship\n",
        "* drug_cost\n",
        "* cohort_attribute\n",
        "* ds_device\n",
        "* achilles_results_dist\n",
        "* procedure_occurrence\n",
        "* payer_plan_period_ext\n",
        "* achilles_results\n",
        "* ds_steps_intraday\n",
        "* condition_era_ext\n",
        "* care_site\n",
        "* vocabulary\n",
        "* cb_search_all_events\n",
        "* achilles_results_derived\n",
        "* specimen\n",
        "* death\n",
        "* source_to_concept_map\n",
        "* specimen_ext\n",
        "* cb_criteria_ancestor\n",
        "* device_exposure\n",
        "* relationship\n",
        "* payer_plan_period\n",
        "* cb_survey_version\n",
        "* concept\n",
        "* ds_person\n",
        "* heart_rate_minute_level\n",
        "* device_cost\n",
        "* cb_criteria_menu\n",
        "* location_ext\n",
        "* dose_era_ext\n",
        "* location\n",
        "* condition_occurrence\n",
        "* concept_synonym\n",
        "* cohort_definition\n",
        "* attribute_definition\n",
        "* ds_condition_occurrence\n",
        "* drug_exposure_ext\n",
        "* note_nlp_ext\n",
        "* drug_exposure\n",
        "* ds_sleep_daily_summary\n",
        "* note\n",
        "* achilles_heel_results\n",
        "* note_ext\n",
        "* cb_criteria_relationship\n",
        "* ds_visit_occurrence\n",
        "* provider_ext\n",
        "* concept_ancestor\n",
        "* device_exposure_ext\n",
        "* condition_occurrence_ext\n",
        "* ds_zip_code_socioeconomic\n",
        "* observation_ext\n",
        "* cost\n",
        "* dose_era\n",
        "* measurement_ext\n",
        "* concept_class\n",
        "* ds_linking\n",
        "* visit_detail\n",
        "* achilles_analysis"
      ],
      "metadata": {
        "id": "2rMNUdXzFsq_"
      }
    },
    {
      "cell_type": "code",
      "source": [
        "import pandas as pd\n",
        "import os\n",
        "\n",
        "DATASET = os.environ[\"WORKSPACE_CDR\"]\n",
        "sql_query = f\"\"\"\n",
        "SELECT * from \n",
        "(SELECT  \n",
        "DISTINCT person_id, drug_concept_id, concept_name, \n",
        "drug_exposure_start_datetime, \n",
        "FLOOR(DATE_DIFF(DATE(drug_exposure_start_datetime),DATE(p.birth_datetime), DAY)/365.25) AS age_at_event, \n",
        "\n",
        "FROM {DATASET}.drug_exposure d \n",
        "JOIN {DATASET}.person p USING (person_id) \n",
        "JOIN {DATASET}.concept ON concept_id=drug_concept_id \n",
        "# WHERE concept_id IN (1125315) \n",
        ") \n",
        "WHERE age_at_event BETWEEN 12 AND 17\n",
        "\"\"\"\n",
        "df = pd.read_gbq(sql_query, dialect=\"standard\")"
      ],
      "metadata": {
        "id": "43j-MB5PFtGN"
      },
      "execution_count": null,
      "outputs": []
    }
  ]
}